{
 "cells": [
  {
   "cell_type": "code",
   "execution_count": 5,
   "metadata": {},
   "outputs": [
    {
     "name": "stdout",
     "output_type": "stream",
     "text": [
      "API Key exists: True\n",
      "API Key starts with: sk-pr\n"
     ]
    }
   ],
   "source": [
    "# [CELL 1] - Check API Key\n",
    "import os\n",
    "from dotenv import load_dotenv\n",
    "\n",
    "load_dotenv()\n",
    "\n",
    "api_key = os.getenv('OPENAI_API_KEY')\n",
    "print(\"API Key exists:\", bool(api_key))  # Should print True\n",
    "print(\"API Key starts with:\", api_key[:5] if api_key else \"No key found\")"
   ]
  },
  {
   "cell_type": "code",
   "execution_count": null,
   "metadata": {},
   "outputs": [],
   "source": [
    "import os\n",
    "os.environ['OPENAI_API_KEY'] = ''"
   ]
  },
  {
   "cell_type": "code",
   "execution_count": 8,
   "metadata": {},
   "outputs": [
    {
     "name": "stdout",
     "output_type": "stream",
     "text": [
      "Loaded 1 documents\n",
      "Split into 1 chunks\n"
     ]
    },
    {
     "name": "stderr",
     "output_type": "stream",
     "text": [
      "C:\\Users\\PC\\AppData\\Local\\Temp\\ipykernel_29060\\787330149.py:45: LangChainDeprecationWarning: Since Chroma 0.4.x the manual persistence method is no longer supported as docs are automatically persisted.\n",
      "  vector_store.persist()\n"
     ]
    },
    {
     "name": "stdout",
     "output_type": "stream",
     "text": [
      "Created vector store at chroma\n"
     ]
    },
    {
     "name": "stderr",
     "output_type": "stream",
     "text": [
      "Number of requested results 2 is greater than number of elements in index 1, updating n_results = 1\n"
     ]
    },
    {
     "name": "stdout",
     "output_type": "stream",
     "text": [
      "\n",
      "Test Query Results:\n",
      "\n",
      "Content: # Alice in Wonderland\n",
      "\n",
      "Alice was beginning to get very tired of sitting by her sister on the bank, and of having nothing to do: once or twice she had peeped into the book her sister was reading, but i ...\n",
      "Source: {'source': 'C:\\\\Users\\\\PC\\\\Documents\\\\VsCode\\\\Projects\\\\Datathon\\\\LLMS\\\\langchain-rag-tutorial\\\\data\\\\books\\\\alice_in_wonderland.md', 'start_index': 0}\n"
     ]
    }
   ],
   "source": [
    "from langchain_community.document_loaders import DirectoryLoader, TextLoader\n",
    "from langchain.text_splitter import RecursiveCharacterTextSplitter\n",
    "from langchain_openai import OpenAIEmbeddings\n",
    "from langchain_community.vectorstores import Chroma\n",
    "import os\n",
    "from dotenv import load_dotenv\n",
    "\n",
    "# Load environment variables\n",
    "load_dotenv()\n",
    "\n",
    "# Define paths\n",
    "DATA_PATH = r\"C:\\Users\\PC\\Documents\\VsCode\\Projects\\Datathon\\LLMS\\langchain-rag-tutorial\\data\\books\"\n",
    "CHROMA_PATH = \"chroma\"\n",
    "\n",
    "def load_documents():\n",
    "    loader = DirectoryLoader(\n",
    "        DATA_PATH, \n",
    "        glob=\"*.md\",\n",
    "        loader_cls=TextLoader,\n",
    "        loader_kwargs={'encoding': 'utf-8'}  # Specify encoding\n",
    "    )\n",
    "    documents = loader.load()\n",
    "    print(f\"Loaded {len(documents)} documents\")\n",
    "    return documents\n",
    "\n",
    "def split_documents(documents):\n",
    "    text_splitter = RecursiveCharacterTextSplitter(\n",
    "        chunk_size=1000,\n",
    "        chunk_overlap=200,\n",
    "        length_function=len,\n",
    "        add_start_index=True,\n",
    "    )\n",
    "    chunks = text_splitter.split_documents(documents)\n",
    "    print(f\"Split into {len(chunks)} chunks\")\n",
    "    return chunks\n",
    "\n",
    "def create_vector_store(chunks):\n",
    "    # Create embeddings and store in Chroma\n",
    "    embeddings = OpenAIEmbeddings()\n",
    "    vector_store = Chroma.from_documents(\n",
    "        documents=chunks,\n",
    "        embedding=embeddings,\n",
    "        persist_directory=CHROMA_PATH\n",
    "    )\n",
    "    vector_store.persist()\n",
    "    print(f\"Created vector store at {CHROMA_PATH}\")\n",
    "    return vector_store\n",
    "\n",
    "def main():\n",
    "    # Load and process documents\n",
    "    documents = load_documents()\n",
    "    chunks = split_documents(documents)\n",
    "    vector_store = create_vector_store(chunks)\n",
    "    \n",
    "    # Optional: test a simple query\n",
    "    query = \"What is this document about?\"\n",
    "    results = vector_store.similarity_search(query, k=2)\n",
    "    print(\"\\nTest Query Results:\")\n",
    "    for doc in results:\n",
    "        print(\"\\nContent:\", doc.page_content[:200], \"...\")\n",
    "        print(\"Source:\", doc.metadata)\n",
    "\n",
    "if __name__ == \"__main__\":\n",
    "    main()"
   ]
  },
  {
   "cell_type": "code",
   "execution_count": null,
   "metadata": {},
   "outputs": [],
   "source": []
  }
 ],
 "metadata": {
  "kernelspec": {
   "display_name": "Python 3",
   "language": "python",
   "name": "python3"
  },
  "language_info": {
   "codemirror_mode": {
    "name": "ipython",
    "version": 3
   },
   "file_extension": ".py",
   "mimetype": "text/x-python",
   "name": "python",
   "nbconvert_exporter": "python",
   "pygments_lexer": "ipython3",
   "version": "3.12.4"
  }
 },
 "nbformat": 4,
 "nbformat_minor": 2
}
